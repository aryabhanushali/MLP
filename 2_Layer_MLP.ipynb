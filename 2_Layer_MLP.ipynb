{
  "nbformat": 4,
  "nbformat_minor": 0,
  "metadata": {
    "colab": {
      "provenance": [],
      "authorship_tag": "ABX9TyN/MIhQSZl7Ybpl6Yb4dCxc",
      "include_colab_link": true
    },
    "kernelspec": {
      "name": "python3",
      "display_name": "Python 3"
    },
    "language_info": {
      "name": "python"
    }
  },
  "cells": [
    {
      "cell_type": "markdown",
      "metadata": {
        "id": "view-in-github",
        "colab_type": "text"
      },
      "source": [
        "<a href=\"https://colab.research.google.com/github/aryabhanushali/murtylab-experiments/blob/main/2_Layer_MLP.ipynb\" target=\"_parent\"><img src=\"https://colab.research.google.com/assets/colab-badge.svg\" alt=\"Open In Colab\"/></a>"
      ]
    },
    {
      "cell_type": "code",
      "execution_count": 1,
      "metadata": {
        "id": "GzN3h2U2wD-r"
      },
      "outputs": [],
      "source": [
        "import torch\n",
        "import torch.nn as nn\n",
        "import torch.optim as optim\n",
        "import torchvision\n",
        "import torchvision.transforms as transforms\n",
        "\n",
        "#MNIST dataset\n",
        "#preprocess\n",
        "#dataload\n",
        "\n",
        "transform = transforms.Compose([transforms.ToTensor(), transforms.Normalize((0.5,), (0.5,))]) #convert images to pytorch tensors, normalize pixels\n",
        "\n",
        "trainset = torchvision.datasets.MNIST(root='./data', train=True, download=True, transform=transform)#load training set\n",
        "trainloader = torch.utils.data.DataLoader(trainset, batch_size=64, shuffle=True) #take 64 at a time, shuffle\n",
        "\n",
        "testset = torchvision.datasets.MNIST(root='./data', train=False, download=True, transform=transform)#load test set\n",
        "testloader = torch.utils.data.DataLoader(testset, batch_size=64, shuffle=False)#64 at a time but no need to shuffle"
      ]
    },
    {
      "cell_type": "code",
      "source": [
        "class MLP(nn.Module):\n",
        "    def __init__(self):\n",
        "        super(MLP, self).__init__()\n",
        "        self.layer1 = nn.Linear(28*28, 128)  #layer 1 (take in 784, output 128 neurons)\n",
        "        self.layer2 = nn.Linear(128, 64)     #layer 2 (take in 128, output 64 neurons)\n",
        "        self.output3 = nn.Linear(64, 10)      #output layer (take in 64, output 10 neurons) digits 0-9\n",
        "\n",
        "    def forward(self, x):\n",
        "        x = x.view(-1, 28*28)  #before passing to nn, must make 1D to single col\n",
        "        x = torch.relu(self.layer1(x))  #fc1 Apply ReLU activation\n",
        "        x = torch.relu(self.layer2(x))  #fc2 Apply ReLU activation\n",
        "        x = self.output3(x)\n",
        "        return x\n",
        "\n",
        "# create instance of this class to make a model we can use\n",
        "model = MLP()"
      ],
      "metadata": {
        "id": "S2PbZ2GrwlZI"
      },
      "execution_count": 2,
      "outputs": []
    },
    {
      "cell_type": "code",
      "source": [
        "criterion = nn.CrossEntropyLoss()  # compare the predicted to the true labels and calculates the loss\n",
        "optimizer = optim.Adam(model.parameters(), lr=0.001)  #adjusts the weights of a neural network to minimize the loss function\n"
      ],
      "metadata": {
        "id": "m6tTFHtowoce"
      },
      "execution_count": 3,
      "outputs": []
    },
    {
      "cell_type": "code",
      "source": [
        "num_epochs = 7  #go through the entire dataset 7 times\n",
        "\n",
        "for epoch in range(num_epochs): #model to refine its weights multiple times\n",
        "    for images, labels in trainloader:\n",
        "        optimizer.zero_grad()\n",
        "        outputs = model(images)  #forward pass\n",
        "        loss = criterion(outputs, labels)  #compute loss\n",
        "        loss.backward()  #backpropagation\n",
        "        optimizer.step()  #update\n",
        "\n",
        "    print(f'Epoch [{epoch+1}/{num_epochs}], Loss: {loss.item():.4f}')\n"
      ],
      "metadata": {
        "colab": {
          "base_uri": "https://localhost:8080/"
        },
        "id": "RXjci5R6wxY5",
        "outputId": "070b9c2d-4dce-4244-f1df-a90c779d9f9a"
      },
      "execution_count": 4,
      "outputs": [
        {
          "output_type": "stream",
          "name": "stdout",
          "text": [
            "Epoch [1/7], Loss: 0.3533\n",
            "Epoch [2/7], Loss: 0.2599\n",
            "Epoch [3/7], Loss: 0.1065\n",
            "Epoch [4/7], Loss: 0.0229\n",
            "Epoch [5/7], Loss: 0.0446\n",
            "Epoch [6/7], Loss: 0.0493\n",
            "Epoch [7/7], Loss: 0.1480\n"
          ]
        }
      ]
    },
    {
      "cell_type": "code",
      "source": [
        "correct = 0\n",
        "total = 0\n",
        "#calculates its accuracy\n",
        "\n",
        "with torch.no_grad():  #dont need gradient\n",
        "    for images, labels in testloader:\n",
        "        outputs = model(images)\n",
        "        _, predicted = torch.max(outputs, 1)\n",
        "        total += labels.size(0)\n",
        "        correct += (predicted == labels).sum().item()\n",
        "\n",
        "print(f'Accuracy: {100 * correct / total:.2f}%')\n"
      ],
      "metadata": {
        "colab": {
          "base_uri": "https://localhost:8080/"
        },
        "id": "75O9IeKaxPbD",
        "outputId": "93f7364b-5596-42c7-b073-8d95ce20c68c"
      },
      "execution_count": 5,
      "outputs": [
        {
          "output_type": "stream",
          "name": "stdout",
          "text": [
            "Accuracy: 97.38%\n"
          ]
        }
      ]
    }
  ]
}